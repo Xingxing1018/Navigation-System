{
 "cells": [
  {
   "cell_type": "code",
   "execution_count": 1,
   "metadata": {
    "collapsed": true
   },
   "outputs": [],
   "source": [
    "import networkx as nx\n",
    "import pygeodesy as pg\n",
    "import pandas as pd"
   ]
  },
  {
   "cell_type": "code",
   "execution_count": 2,
   "metadata": {
    "collapsed": true
   },
   "outputs": [],
   "source": [
    "# Read file\n",
    "buildings = pd.read_csv(\"./buildings.csv\")\n",
    "streets = pd.read_csv(\"./streets.csv\")\n",
    "edges = pd.read_csv(\"./edges.csv\")"
   ]
  },
  {
   "cell_type": "code",
   "execution_count": 3,
   "metadata": {},
   "outputs": [
    {
     "data": {
      "text/html": [
       "<div>\n",
       "<style>\n",
       "    .dataframe thead tr:only-child th {\n",
       "        text-align: right;\n",
       "    }\n",
       "\n",
       "    .dataframe thead th {\n",
       "        text-align: left;\n",
       "    }\n",
       "\n",
       "    .dataframe tbody tr th {\n",
       "        vertical-align: top;\n",
       "    }\n",
       "</style>\n",
       "<table border=\"1\" class=\"dataframe\">\n",
       "  <thead>\n",
       "    <tr style=\"text-align: right;\">\n",
       "      <th></th>\n",
       "      <th>name</th>\n",
       "      <th>coordinate</th>\n",
       "      <th>mail_code</th>\n",
       "    </tr>\n",
       "  </thead>\n",
       "  <tbody>\n",
       "    <tr>\n",
       "      <th>0</th>\n",
       "      <td>Engineering Hall</td>\n",
       "      <td>40.1107778,-88.2291468</td>\n",
       "      <td>266</td>\n",
       "    </tr>\n",
       "    <tr>\n",
       "      <th>1</th>\n",
       "      <td>Materials Science and Engineering Building</td>\n",
       "      <td>40.1108638,-88.2282995</td>\n",
       "      <td>246</td>\n",
       "    </tr>\n",
       "    <tr>\n",
       "      <th>2</th>\n",
       "      <td>Illini Union</td>\n",
       "      <td>40.1093911,-88.2294342</td>\n",
       "      <td>384</td>\n",
       "    </tr>\n",
       "    <tr>\n",
       "      <th>3</th>\n",
       "      <td>Noyes Laboratory</td>\n",
       "      <td>40.108482, -88.226117</td>\n",
       "      <td>712</td>\n",
       "    </tr>\n",
       "    <tr>\n",
       "      <th>4</th>\n",
       "      <td>Ischool</td>\n",
       "      <td>40.107682, -88.231541</td>\n",
       "      <td>493</td>\n",
       "    </tr>\n",
       "  </tbody>\n",
       "</table>\n",
       "</div>"
      ],
      "text/plain": [
       "                                         name              coordinate  \\\n",
       "0                            Engineering Hall  40.1107778,-88.2291468   \n",
       "1  Materials Science and Engineering Building  40.1108638,-88.2282995   \n",
       "2                                Illini Union  40.1093911,-88.2294342   \n",
       "3                            Noyes Laboratory   40.108482, -88.226117   \n",
       "4                                     Ischool   40.107682, -88.231541   \n",
       "\n",
       "   mail_code  \n",
       "0        266  \n",
       "1        246  \n",
       "2        384  \n",
       "3        712  \n",
       "4        493  "
      ]
     },
     "execution_count": 3,
     "metadata": {},
     "output_type": "execute_result"
    }
   ],
   "source": [
    "buildings"
   ]
  },
  {
   "cell_type": "code",
   "execution_count": 4,
   "metadata": {
    "collapsed": true
   },
   "outputs": [],
   "source": [
    "# Initialize directed graph\n",
    "my_g = nx.Graph()"
   ]
  },
  {
   "cell_type": "code",
   "execution_count": 5,
   "metadata": {
    "collapsed": true
   },
   "outputs": [],
   "source": [
    "# add buildings nodes\n",
    "for x in range(buildings.shape[0]):\n",
    "    building = buildings.iloc[x]\n",
    "    my_g.add_node(building[\"name\"],attr_dict={\"type\": \"building\",\"coor\":building.coordinate,\"mail_code\":building.mail_code})"
   ]
  },
  {
   "cell_type": "code",
   "execution_count": 6,
   "metadata": {
    "collapsed": true
   },
   "outputs": [],
   "source": [
    "# add streets nodes\n",
    "for x in range(streets.shape[0]):\n",
    "    street = streets.iloc[x]\n",
    "    my_g.add_node(street[\"name\"],attr_dict={\"type\": \"street\"})"
   ]
  },
  {
   "cell_type": "code",
   "execution_count": 7,
   "metadata": {
    "collapsed": true
   },
   "outputs": [],
   "source": [
    "import matplotlib.pyplot as plt\n",
    "%matplotlib inline"
   ]
  },
  {
   "cell_type": "code",
   "execution_count": 8,
   "metadata": {
    "collapsed": true
   },
   "outputs": [],
   "source": [
    "# add edge\n",
    "for x in range(edges.shape[0]):\n",
    "    edge = edges.iloc[x]    \n",
    "    my_g.add_edge(edge.node_a,edge.node_b,{\"intersect\": edge.intersection})"
   ]
  },
  {
   "cell_type": "code",
   "execution_count": 9,
   "metadata": {},
   "outputs": [
    {
     "name": "stderr",
     "output_type": "stream",
     "text": [
      "/Volumes/HD-500GB/Users/nikolausn/anaconda3/lib/python3.6/site-packages/networkx/drawing/nx_pylab.py:126: MatplotlibDeprecationWarning: pyplot.hold is deprecated.\n",
      "    Future behavior will be consistent with the long-time default:\n",
      "    plot commands add elements without first clearing the\n",
      "    Axes and/or Figure.\n",
      "  b = plt.ishold()\n",
      "/Volumes/HD-500GB/Users/nikolausn/anaconda3/lib/python3.6/site-packages/networkx/drawing/nx_pylab.py:138: MatplotlibDeprecationWarning: pyplot.hold is deprecated.\n",
      "    Future behavior will be consistent with the long-time default:\n",
      "    plot commands add elements without first clearing the\n",
      "    Axes and/or Figure.\n",
      "  plt.hold(b)\n",
      "/Volumes/HD-500GB/Users/nikolausn/anaconda3/lib/python3.6/site-packages/matplotlib/__init__.py:917: UserWarning: axes.hold is deprecated. Please remove it from your matplotlibrc and/or style files.\n",
      "  warnings.warn(self.msg_depr_set % key)\n",
      "/Volumes/HD-500GB/Users/nikolausn/anaconda3/lib/python3.6/site-packages/matplotlib/rcsetup.py:152: UserWarning: axes.hold is deprecated, will be removed in 3.0\n",
      "  warnings.warn(\"axes.hold is deprecated, will be removed in 3.0\")\n"
     ]
    },
    {
     "data": {
      "image/png": "[encoded data removed]",
      "text/plain": [
       "<matplotlib.figure.Figure at 0x11ab3f588>"
      ]
     },
     "metadata": {},
     "output_type": "display_data"
    }
   ],
   "source": [
    "nx.draw(my_g,with_labels=True)"
   ]
  },
  {
   "cell_type": "code",
   "execution_count": 10,
   "metadata": {
    "collapsed": true
   },
   "outputs": [],
   "source": [
    "from pygeodesy import ellipsoidalVincenty as ev\n",
    "?ev.LatLon"
   ]
  },
  {
   "cell_type": "code",
   "execution_count": 11,
   "metadata": {},
   "outputs": [
    {
     "data": {
      "text/plain": [
       "<generator object _all_simple_paths_graph at 0x11d15ff10>"
      ]
     },
     "execution_count": 11,
     "metadata": {},
     "output_type": "execute_result"
    }
   ],
   "source": [
    "nx.all_simple_paths(my_g,\"Ischool\",\"Noyes Laboratory\")"
   ]
  },
  {
   "cell_type": "code",
   "execution_count": 20,
   "metadata": {
    "collapsed": true
   },
   "outputs": [],
   "source": [
    "output_paths = []\n",
    "for path in nx.all_simple_paths(my_g,\"Ischool\",\"Noyes Laboratory\"):\n",
    "    temp_path = []\n",
    "    total_path = 0\n",
    "    start = None\n",
    "    for node in path:\n",
    "        if start == None:\n",
    "            start_node = node\n",
    "            start = my_g.node[node]\n",
    "            if \"coor\" in start:\n",
    "                coor = start[\"coor\"].split(\",\")\n",
    "                start_coor = ev.LatLon(coor[0],coor[1])\n",
    "        else:\n",
    "            end_node = node\n",
    "            end = my_g.edge[start_node][end_node]\n",
    "            if \"intersect\" in end:\n",
    "                coor = end[\"intersect\"].split(\",\")\n",
    "                end_coor = ev.LatLon(coor[0],coor[1])\n",
    "                dist, bearing, _  = start_coor.distanceTo3(end_coor)\n",
    "                if bearing >= 45 and bearing < 135:\n",
    "                    goto=\"East\"\n",
    "                elif bearing >=135 and bearing < 225:\n",
    "                    goto = \"South\"\n",
    "                elif bearing >=225 and bearing < 315:\n",
    "                    goto = \"West\"\n",
    "                else:\n",
    "                    goto = \"North\"\n",
    "\n",
    "                #my_g.edge[start_node][end_node][\"dist\"]= dist\n",
    "                #my_g.edge[start_node][end_node][\"bearing\"]= bearing\n",
    "                #my_g.edge[start_node][end_node][\"goto\"]= goto\n",
    "                temp_path.append({'start': start_node,'end': end_node, 'dist': dist, 'bearing': bearing, 'goto': goto})\n",
    "                total_path+=dist\n",
    "                start_node = end_node\n",
    "                start = end\n",
    "                start_coor = end_coor\n",
    "        # end building\n",
    "    end = my_g.node[end_node]\n",
    "    if \"coor\" in end:\n",
    "        coor = end[\"coor\"].split(\",\")\n",
    "        end_coor = ev.LatLon(coor[0],coor[1])\n",
    "        dist, bearing, _  = start_coor.distanceTo3(end_coor)\n",
    "        if bearing >= 45 and bearing < 135:\n",
    "            goto=\"East\"\n",
    "        elif bearing >=135 and bearing < 225:\n",
    "            goto = \"South\"\n",
    "        elif bearing >=225 and bearing < 315:\n",
    "            goto = \"West\"\n",
    "        else:\n",
    "            goto = \"North\"\n",
    "        temp_path.append({'start': start_node,'end': end_node, 'dist': dist, 'bearing': bearing, 'goto': goto})\n",
    "        total_path+=dist\n",
    "        #my_g.edge[start_node][end_node][\"dist\"]= dist\n",
    "        #my_g.edge[start_node][end_node][\"bearing\"]= bearing\n",
    "        #my_g.edge[start_node][end_node][\"goto\"]= goto\n",
    "    output_paths.append((temp_path,total_path,len(temp_path)))"
   ]
  },
  {
   "cell_type": "code",
   "execution_count": 21,
   "metadata": {},
   "outputs": [
    {
     "data": {
      "text/plain": [
       "{'E Daniel St': {'Ischool': {'intersect': '40.1079758,-88.2315345'},\n",
       "  'S Wright St': {'intersect': '40.107989,-88.228856'}},\n",
       " 'E John St': {'S Wright St': {'intersect': '40.1090557,-88.2289043'}},\n",
       " 'Engineering Hall': {'W Green St': {'intersect': '40.1104354,-88.2269561'}},\n",
       " 'Illini Union': {'W Green St': {'intersect': '40.1103287,-88.227278'}},\n",
       " 'Ischool': {'E Daniel St': {'intersect': '40.1079758,-88.2315345'}},\n",
       " 'Materials Science and Engineering Building': {'W Green St': {'intersect': '40.11046,-88.22613'}},\n",
       " 'Noyes Laboratory': {'S Mathews Ave': {'intersect': '40.1084575,-88.225567'}},\n",
       " 'S Mathews Ave': {'Noyes Laboratory': {'intersect': '40.1084575,-88.225567'},\n",
       "  'W Green St': {'intersect': '40.1104712,-88.2255569'}},\n",
       " 'S Wright St': {'E Daniel St': {'intersect': '40.107989,-88.228856'},\n",
       "  'E John St': {'intersect': '40.1090557,-88.2289043'},\n",
       "  'W Green St': {'intersect': '40.1103112,-88.2288721'}},\n",
       " 'W Green St': {'Engineering Hall': {'intersect': '40.1104354,-88.2269561'},\n",
       "  'Illini Union': {'intersect': '40.1103287,-88.227278'},\n",
       "  'Materials Science and Engineering Building': {'intersect': '40.11046,-88.22613'},\n",
       "  'S Mathews Ave': {'intersect': '40.1104712,-88.2255569'},\n",
       "  'S Wright St': {'intersect': '40.1103112,-88.2288721'}}}"
      ]
     },
     "execution_count": 21,
     "metadata": {},
     "output_type": "execute_result"
    }
   ],
   "source": [
    "my_g.edge"
   ]
  },
  {
   "cell_type": "code",
   "execution_count": 22,
   "metadata": {},
   "outputs": [
    {
     "data": {
      "text/plain": [
       "['Ischool',\n",
       " 'E Daniel St',\n",
       " 'S Wright St',\n",
       " 'W Green St',\n",
       " 'S Mathews Ave',\n",
       " 'Noyes Laboratory']"
      ]
     },
     "execution_count": 22,
     "metadata": {},
     "output_type": "execute_result"
    }
   ],
   "source": [
    "nx.shortest_path(my_g,\"Ischool\",\"Noyes Laboratory\",weight=\"weight\")"
   ]
  },
  {
   "cell_type": "code",
   "execution_count": 23,
   "metadata": {},
   "outputs": [
    {
     "data": {
      "text/plain": [
       "[([{'bearing': 0.9732336610395282,\n",
       "    'dist': 32.62729089067866,\n",
       "    'end': 'E Daniel St',\n",
       "    'goto': 'North',\n",
       "    'start': 'Ischool'},\n",
       "   {'bearing': 89.63141124181546,\n",
       "    'dist': 228.37145330698132,\n",
       "    'end': 'S Wright St',\n",
       "    'goto': 'East',\n",
       "    'start': 'E Daniel St'},\n",
       "   {'bearing': 359.69499670468224,\n",
       "    'dist': 257.8531500331647,\n",
       "    'end': 'W Green St',\n",
       "    'goto': 'North',\n",
       "    'start': 'S Wright St'},\n",
       "   {'bearing': 86.40224416313508,\n",
       "    'dist': 283.19910944613184,\n",
       "    'end': 'S Mathews Ave',\n",
       "    'goto': 'East',\n",
       "    'start': 'W Green St'},\n",
       "   {'bearing': 180.2206574512509,\n",
       "    'dist': 223.59633523311285,\n",
       "    'end': 'Noyes Laboratory',\n",
       "    'goto': 'South',\n",
       "    'start': 'S Mathews Ave'},\n",
       "   {'bearing': 273.32040591501004,\n",
       "    'dist': 46.97106597657251,\n",
       "    'end': 'Noyes Laboratory',\n",
       "    'goto': 'West',\n",
       "    'start': 'Noyes Laboratory'}],\n",
       "  1072.6184048866419,\n",
       "  6)]"
      ]
     },
     "execution_count": 23,
     "metadata": {},
     "output_type": "execute_result"
    }
   ],
   "source": [
    "output_paths"
   ]
  },
  {
   "cell_type": "code",
   "execution_count": 24,
   "metadata": {},
   "outputs": [
    {
     "name": "stdout",
     "output_type": "stream",
     "text": [
      "From Ischool go North to E Daniel St\n",
      "From E Daniel St go East about 228.37 m to S Wright St\n",
      "From S Wright St go North about 257.85 m to W Green St\n",
      "From W Green St go East about 283.20 m to S Mathews Ave\n",
      "From S Mathews Ave go South about 223.60 m to Noyes Laboratory\n",
      "The destination is West from the S Mathews Ave\n",
      "Total Path: 1072.62 m\n"
     ]
    }
   ],
   "source": [
    "# Sort output paths for the shortest path\n",
    "sorted_output_paths = sorted(output_paths,key=lambda x: x[1])\n",
    "\n",
    "# render output path\n",
    "shortest = sorted_output_paths[0]\n",
    "for i,path in enumerate(shortest[0]):\n",
    "    if i == 0:\n",
    "        print(\"From {} go {} to {}\".format(path[\"start\"],path[\"goto\"],path[\"end\"]))\n",
    "    elif i == (shortest[2]-1):\n",
    "        print(\"The destination is {} from the {}\".format(path[\"goto\"],shortest[0][i-1][\"start\"]))\n",
    "    else:\n",
    "        print(\"From {} go {} about {:.2f} m to {}\".format(path[\"start\"],path[\"goto\"],path[\"dist\"],path[\"end\"]))        \n",
    "print(\"Total Path: {:.2f} m\".format(shortest[1]))"
   ]
  },
  {
   "cell_type": "code",
   "execution_count": 25,
   "metadata": {
    "scrolled": true
   },
   "outputs": [
    {
     "name": "stderr",
     "output_type": "stream",
     "text": [
      "/Volumes/HD-500GB/Users/nikolausn/anaconda3/lib/python3.6/site-packages/networkx/drawing/nx_pylab.py:126: MatplotlibDeprecationWarning: pyplot.hold is deprecated.\n",
      "    Future behavior will be consistent with the long-time default:\n",
      "    plot commands add elements without first clearing the\n",
      "    Axes and/or Figure.\n",
      "  b = plt.ishold()\n",
      "/Volumes/HD-500GB/Users/nikolausn/anaconda3/lib/python3.6/site-packages/networkx/drawing/nx_pylab.py:138: MatplotlibDeprecationWarning: pyplot.hold is deprecated.\n",
      "    Future behavior will be consistent with the long-time default:\n",
      "    plot commands add elements without first clearing the\n",
      "    Axes and/or Figure.\n",
      "  plt.hold(b)\n",
      "/Volumes/HD-500GB/Users/nikolausn/anaconda3/lib/python3.6/site-packages/matplotlib/__init__.py:917: UserWarning: axes.hold is deprecated. Please remove it from your matplotlibrc and/or style files.\n",
      "  warnings.warn(self.msg_depr_set % key)\n",
      "/Volumes/HD-500GB/Users/nikolausn/anaconda3/lib/python3.6/site-packages/matplotlib/rcsetup.py:152: UserWarning: axes.hold is deprecated, will be removed in 3.0\n",
      "  warnings.warn(\"axes.hold is deprecated, will be removed in 3.0\")\n"
     ]
    },
    {
     "data": {
      "image/png": "[encoded data removed]",
      "text/plain": [
       "<matplotlib.figure.Figure at 0x11d3f6cc0>"
      ]
     },
     "metadata": {},
     "output_type": "display_data"
    }
   ],
   "source": [
    "nx.draw(my_g,with_labels=True)"
   ]
  },
  {
   "cell_type": "code",
   "execution_count": null,
   "metadata": {
    "collapsed": true
   },
   "outputs": [],
   "source": []
  }
 ],
 "metadata": {
  "kernelspec": {
   "display_name": "Python 3",
   "language": "python",
   "name": "python3"
  },
  "language_info": {
   "codemirror_mode": {
    "name": "ipython",
    "version": 3
   },
   "file_extension": ".py",
   "mimetype": "text/x-python",
   "name": "python",
   "nbconvert_exporter": "python",
   "pygments_lexer": "ipython3",
   "version": "3.6.1"
  }
 },
 "nbformat": 4,
 "nbformat_minor": 2
}
